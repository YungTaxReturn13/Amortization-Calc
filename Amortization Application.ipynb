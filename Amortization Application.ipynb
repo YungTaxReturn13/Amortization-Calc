{
 "cells": [
  {
   "cell_type": "markdown",
   "id": "94f58034-ec9c-414f-adb3-17a4c93b4432",
   "metadata": {},
   "source": [
    "* figure out how to best implement additional principal payments\n",
    "* clean up"
   ]
  },
  {
   "cell_type": "markdown",
   "id": "b22f154c-6a6a-46e0-b6ad-1af384fef9bf",
   "metadata": {},
   "source": [
    "# Application"
   ]
  },
  {
   "cell_type": "code",
   "execution_count": 1,
   "id": "68258498-8206-485e-b5aa-388f50f3c133",
   "metadata": {},
   "outputs": [],
   "source": [
    "import ipywidgets as widgets\n",
    "import numpy as np\n",
    "import pandas as pd\n",
    "from bqplot import pyplot as plt\n",
    "import numpy_financial as npf\n",
    "from datetime import datetime\n",
    "import ipysheet\n",
    "import seaborn as sns"
   ]
  },
  {
   "cell_type": "markdown",
   "id": "5fef53e0-295e-4002-9c46-ccd650b3c59c",
   "metadata": {},
   "source": [
    "# Setup"
   ]
  },
  {
   "cell_type": "code",
   "execution_count": 2,
   "id": "e3a151d8-e2c9-4c0d-9697-c36a1886052a",
   "metadata": {},
   "outputs": [],
   "source": [
    "# Creating the main inputs for the application \n",
    "principal = widgets.IntText(description = \"Principal\", value = 100000)\n",
    "period_in_years = widgets.IntSlider(min = 1, max = 60, description = \"Years\")\n",
    "period_in_months = widgets.IntSlider(min = 1, description = \"Period\")\n",
    "rate = widgets.FloatText(description = \"Interest Rate (in percentage)\", value = 5)\n",
    "start_date = widgets.DatePicker(value = datetime.today())\n",
    "additional_payment = widgets.IntText(description = \"Additional Principal payment\", value = 50)\n",
    "\n",
    "# This function changes the max value of the period based on the amount of years inputted\n",
    "def update_x_range(*args):\n",
    "    period_in_months.max = 12.0 * period_in_years.value\n",
    "period_in_months.observe(update_x_range, 'value')\n",
    "\n",
    "# Prints out the breakdown of the amount paid based on the inputs\n",
    "\n",
    "def payments_per_period(rate_in_months, per, period_in_months, principal): \n",
    "    # The interest payment for a given period \n",
    "    rate_in_months = rate_in_months / 100 / 12\n",
    "    period_in_months = period_in_months * 12\n",
    "    interest_payment = npf.ipmt(rate_in_months, per, period_in_months, -principal)\n",
    "\n",
    "    # The principal payment for a given period\n",
    "    principal_payment = npf.ppmt(rate_in_months, per, period_in_months, -principal)\n",
    "\n",
    "    total_payment = interest_payment + principal_payment\n",
    "\n",
    "    print(f'Period # {per}')\n",
    "    print('Interest Payment: {:,.2f}'.format(interest_payment))\n",
    "    print('Principal Payment: {:,.2f}'.format(principal_payment))\n",
    "    print('Total Payment: {:,.2f}'.format(total_payment))\n",
    "    print('Split: {:.2%} Interest {:,.2%} Principal'.format(interest_payment / total_payment, principal_payment / total_payment))\n",
    "\n",
    "### Creating the amortization table\n",
    "\n",
    "# Creating the date index\n",
    "def create_table(start_date, rate_in_months, period_in_years, principal):\n",
    "    period_in_months = period_in_years * 12\n",
    "    rate_in_months = rate_in_months / 100 / 12\n",
    "    rng = pd.date_range(start= pd.to_datetime(start_date).date(), periods= period_in_months, freq='MS')\n",
    "    rng\n",
    "\n",
    "    # Creading the data frame \n",
    "\n",
    "    df = pd.DataFrame(index=rng, columns=['Payment','Principal','Interest','Balance'])\n",
    "    df.index.name = \"Period\"\n",
    "\n",
    "    # Adding the payment is easy since it will always be the same\n",
    "\n",
    "    df['Payment'] = npf.pmt(rate_in_months, period_in_months, principal)\n",
    "\n",
    "    # The principal and interest change over time but since we can grab the periods using df.index, we can just use that in our formula\n",
    "    df['Principal'] = npf.ppmt(rate_in_months, df.reset_index().index + 1, period_in_months, -principal)\n",
    "    df['Interest'] = npf.ipmt(rate_in_months, df.reset_index().index + 1, period_in_months, -principal)\n",
    "\n",
    "    df['Cumulative Principal'] = df['Principal'].cumsum()\n",
    "    df['Balance'] = principal - df['Cumulative Principal']\n",
    "    pd.set_option('display.max_rows', None)\n",
    "    print(f\"Total Interest Paid: ${df['Interest'].sum():,.2f}\")\n",
    "    display(df.round(2))\n",
    "    \n",
    "### Creating the amortization graph\n",
    "def create_graph(start_date, rate_in_months, period_in_years, principal):\n",
    "    period_in_months = period_in_years * 12\n",
    "    rate_in_months = rate_in_months / 100 / 12\n",
    "    rng = pd.date_range(start= start_date, periods= period_in_months, freq='MS')\n",
    "    rng\n",
    "\n",
    "    # Creading the data frame \n",
    "\n",
    "    df = pd.DataFrame(index=rng, columns=['Payment','Principal','Interest','Balance'])\n",
    "    df.index.name = \"Period\"\n",
    "\n",
    "    # Adding the payment is easy since it will always be the same\n",
    "\n",
    "    df['Payment'] = npf.pmt(rate_in_months, period_in_months, principal)\n",
    "\n",
    "    # The principal and interest change over time but since we can grab the periods using df.index, we can just use that in our formula\n",
    "    df['Principal'] = npf.ppmt(rate_in_months, df.reset_index().index + 1, period_in_months, -principal)\n",
    "    df['Interest'] = npf.ipmt(rate_in_months, df.reset_index().index + 1, period_in_months, -principal)\n",
    "\n",
    "    df['Cumulative Principal'] = df['Principal'].cumsum()\n",
    "    df['Balance'] = principal - df['Cumulative Principal']\n",
    "    display(sns.lineplot(x = \"Period\", y = 'Balance', data = df));\n",
    "\n",
    "    "
   ]
  },
  {
   "cell_type": "markdown",
   "id": "f908dc01-f9e1-477e-9577-9ea751bd7141",
   "metadata": {},
   "source": [
    "# Inputs"
   ]
  },
  {
   "cell_type": "code",
   "execution_count": 3,
   "id": "b382add2-1e0e-47a0-8fda-704f2d3fe97b",
   "metadata": {
    "tags": []
   },
   "outputs": [
    {
     "data": {
      "application/vnd.jupyter.widget-view+json": {
       "model_id": "ce84a8931d98447fa845f3b28510c812",
       "version_major": 2,
       "version_minor": 0
      },
      "text/plain": [
       "HBox(children=(VBox(children=(IntText(value=100000, description='Principal'), FloatText(value=5.0, description…"
      ]
     },
     "metadata": {},
     "output_type": "display_data"
    }
   ],
   "source": [
    "ui = widgets.VBox([principal, rate, start_date, period_in_years,period_in_months,additional_payment])\n",
    "value_output = widgets.interactive_output(payments_per_period,\n",
    "                                          {'rate_in_months': rate,\n",
    "                                           'per': period_in_months,\n",
    "                                           'period_in_months':period_in_years,\n",
    "                                           'principal':principal })\n",
    "display(widgets.HBox([ui,value_output]));\n",
    "\n"
   ]
  },
  {
   "cell_type": "markdown",
   "id": "6c60a7aa-b8e8-484b-b3f9-a42657d11730",
   "metadata": {},
   "source": [
    "# Outputs"
   ]
  },
  {
   "cell_type": "code",
   "execution_count": 4,
   "id": "07e4aad6-08fd-42b0-8b95-1e093442e465",
   "metadata": {
    "jupyter": {
     "source_hidden": true
    },
    "tags": []
   },
   "outputs": [
    {
     "data": {
      "application/vnd.jupyter.widget-view+json": {
       "model_id": "4bebe42ff0d14c728659a421f61c067b",
       "version_major": 2,
       "version_minor": 0
      },
      "text/plain": [
       "Output(layout=Layout(border='1px solid black'))"
      ]
     },
     "metadata": {},
     "output_type": "display_data"
    }
   ],
   "source": [
    "out = widgets.Output(layout={'border': '1px solid black'})\n",
    "\n",
    "view_toggle = widgets.Dropdown(\n",
    "    options=['Table', 'Graph'],\n",
    "    value='Table',\n",
    "    description='View:',\n",
    "    disabled=False,\n",
    ")\n",
    "\n",
    "def toggle(x):\n",
    "    if x == 'Table':\n",
    "        display(table_output)\n",
    "    elif x == 'Graph':\n",
    "        display(graph_output)\n",
    "with out: \n",
    "\n",
    "    table_output = widgets.interactive_output(create_table,\n",
    "                                              {'start_date': start_date,\n",
    "                                               'rate_in_months': rate,\n",
    "                                               'period_in_years': period_in_years,\n",
    "                                               'principal': principal})\n",
    "    graph_output = widgets.interactive_output(create_graph,\n",
    "                                              {'start_date': start_date,\n",
    "                                               'rate_in_months': rate,\n",
    "                                               'period_in_years': period_in_years,\n",
    "                                               'principal': principal})\n",
    "    widgets.interact(toggle, x = view_toggle)\n",
    "    \n",
    "out"
   ]
  },
  {
   "cell_type": "code",
   "execution_count": null,
   "id": "fa85994b-ac6e-47a7-8411-9d32996f6204",
   "metadata": {},
   "outputs": [],
   "source": []
  },
  {
   "cell_type": "code",
   "execution_count": null,
   "id": "4c2ba4fd-fe88-4b54-aed4-62e4e5a6c552",
   "metadata": {},
   "outputs": [],
   "source": []
  },
  {
   "cell_type": "code",
   "execution_count": null,
   "id": "d2c52cb8-779e-4b5c-bdba-89dc32e4d99b",
   "metadata": {},
   "outputs": [],
   "source": []
  }
 ],
 "metadata": {
  "kernelspec": {
   "display_name": "Python 3",
   "language": "python",
   "name": "python3"
  },
  "language_info": {
   "codemirror_mode": {
    "name": "ipython",
    "version": 3
   },
   "file_extension": ".py",
   "mimetype": "text/x-python",
   "name": "python",
   "nbconvert_exporter": "python",
   "pygments_lexer": "ipython3",
   "version": "3.8.8"
  }
 },
 "nbformat": 4,
 "nbformat_minor": 5
}
