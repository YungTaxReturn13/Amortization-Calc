{
 "cells": [
  {
   "cell_type": "markdown",
   "id": "b22f154c-6a6a-46e0-b6ad-1af384fef9bf",
   "metadata": {},
   "source": [
    "# Amortization Calculator Application\n",
    "\n",
    "This application allows you to view the changes of the behavior of an amortization schedule based on different inputs. Run all of the following cells in order to generate a dashboard which displays both table and graph versions of the amort schedule. You can then move the display of the final output in order to just see the dashboard. "
   ]
  },
  {
   "cell_type": "markdown",
   "id": "b80eb8c3-dfff-4cbe-bde2-b00fc1f789e6",
   "metadata": {},
   "source": [
    "## Imports"
   ]
  },
  {
   "cell_type": "code",
   "execution_count": 1,
   "id": "68258498-8206-485e-b5aa-388f50f3c133",
   "metadata": {},
   "outputs": [],
   "source": [
    "# Imports\n",
    "import ipywidgets as widgets\n",
    "import numpy as np\n",
    "import pandas as pd\n",
    "import matplotlib.pyplot as plt\n",
    "import numpy_financial as npf\n",
    "from datetime import datetime\n",
    "import ipysheet\n",
    "import seaborn as sns\n",
    "\n",
    "# Imports from helper functions\n",
    "from AmortCalc.Application import *"
   ]
  },
  {
   "cell_type": "markdown",
   "id": "5fef53e0-295e-4002-9c46-ccd650b3c59c",
   "metadata": {},
   "source": [
    "## Setup"
   ]
  },
  {
   "cell_type": "code",
   "execution_count": 2,
   "id": "e3a151d8-e2c9-4c0d-9697-c36a1886052a",
   "metadata": {},
   "outputs": [],
   "source": [
    "# Creating the main inputs for the application \n",
    "\n",
    "form_item_layout = widgets.Layout(justify_content='space-between')\n",
    "\n",
    "principal = widgets.IntText(description = \"Principal\", value = 100000)\n",
    "period_in_years = widgets.IntSlider(min = 1, max = 60, description = \"Years\")\n",
    "period_in_months = widgets.IntSlider(min = 1, description = \"Period\")\n",
    "rate = widgets.FloatText(description = \"Rate (ex) 2.5)\", value = 2, style=dict(description_width='initial'))\n",
    "start_date = widgets.DatePicker(value = datetime.today())\n",
    "additional_payment = widgets.IntText(description = \"Additional Principal Per Period\", value = 50, min = 0,style=dict(description_width='initial'))\n",
    "\n",
    "\n",
    "# This function changes the max value of the period based on the amount of years inputted\n",
    "def update_x_range(*args):\n",
    "    period_in_months.max = 12.0 * period_in_years.value\n",
    "\n",
    "period_in_months.observe(update_x_range, 'value')\n",
    "    "
   ]
  },
  {
   "cell_type": "markdown",
   "id": "f908dc01-f9e1-477e-9577-9ea751bd7141",
   "metadata": {},
   "source": [
    "## Inputs"
   ]
  },
  {
   "cell_type": "code",
   "execution_count": 3,
   "id": "b382add2-1e0e-47a0-8fda-704f2d3fe97b",
   "metadata": {
    "tags": []
   },
   "outputs": [],
   "source": [
    "ui = widgets.VBox([principal,\n",
    "                   rate,\n",
    "                   start_date,\n",
    "                   period_in_years,\n",
    "                   period_in_months,\n",
    "                   additional_payment],layout = form_item_layout)\n",
    "\n",
    "value_output = widgets.interactive_output(payments_per_period,\n",
    "                                          {'rate_in_months': rate,\n",
    "                                           'per': period_in_months,\n",
    "                                           'period_in_months':period_in_years,\n",
    "                                           'principal':principal })\n",
    "inputs = widgets.VBox([value_output,ui],layout = widgets.Layout(border='2px solid gray', padding = '10px',\n",
    "                                                       align_items = 'stretch', width='38%'));\n",
    "\n"
   ]
  },
  {
   "cell_type": "markdown",
   "id": "6c60a7aa-b8e8-484b-b3f9-a42657d11730",
   "metadata": {},
   "source": [
    "## Outputs"
   ]
  },
  {
   "cell_type": "code",
   "execution_count": 4,
   "id": "07e4aad6-08fd-42b0-8b95-1e093442e465",
   "metadata": {
    "tags": []
   },
   "outputs": [
    {
     "data": {
      "application/vnd.jupyter.widget-view+json": {
       "model_id": "33ae70b2e3fd4836be1dbe72fadfd591",
       "version_major": 2,
       "version_minor": 0
      },
      "text/plain": [
       "Output(layout=Layout(border='1px solid black'))"
      ]
     },
     "metadata": {},
     "output_type": "display_data"
    }
   ],
   "source": [
    "out = widgets.Output(layout={'border': '1px solid black'})\n",
    "\n",
    "view_toggle = widgets.Dropdown(\n",
    "    options=['Table', 'Graph'],\n",
    "    value='Table',\n",
    "    description='View:',\n",
    "    disabled=False,)\n",
    "\n",
    "def toggle(x):\n",
    "    if x == 'Table':\n",
    "        display(widgets.HBox([inputs,table_output]))\n",
    "    elif x == 'Graph':\n",
    "        display(widgets.HBox([inputs,graph_output]))\n",
    "        \n",
    "table_output = widgets.interactive_output(create_table,\n",
    "                                      {'start_date': start_date,\n",
    "                                       'rate_in_months': rate,\n",
    "                                       'period_in_years': period_in_years,\n",
    "                                       'principal': principal,\n",
    "                                      'additional_pmt':additional_payment})\n",
    "graph_output = widgets.interactive_output(create_graph,\n",
    "                                      {'start_date': start_date,\n",
    "                                       'rate_in_months': rate,\n",
    "                                       'period_in_years': period_in_years,\n",
    "                                       'principal': principal,\n",
    "                                      'additional_pmt':additional_payment})\n",
    "    \n",
    "with out: \n",
    "    outputs = widgets.interact(toggle, x = view_toggle)\n",
    "out"
   ]
  },
  {
   "cell_type": "markdown",
   "id": "e5d2a449-0e6f-43b5-a38d-a993067848d8",
   "metadata": {},
   "source": [
    "## Dependencies"
   ]
  },
  {
   "cell_type": "code",
   "execution_count": 5,
   "id": "43fd8832-ca32-43ce-9f1e-3b40fcf2348a",
   "metadata": {},
   "outputs": [
    {
     "name": "stdout",
     "output_type": "stream",
     "text": [
      "Last updated: 2021-08-16T11:29:37.563937-04:00\n",
      "\n",
      "Python implementation: CPython\n",
      "Python version       : 3.8.8\n",
      "IPython version      : 7.22.0\n",
      "\n",
      "Compiler    : Clang 10.0.0 \n",
      "OS          : Darwin\n",
      "Release     : 20.4.0\n",
      "Machine     : x86_64\n",
      "Processor   : i386\n",
      "CPU cores   : 8\n",
      "Architecture: 64bit\n",
      "\n",
      "ipysheet       : 0.5.0\n",
      "matplotlib     : 3.3.4\n",
      "numpy_financial: 1.0.0\n",
      "numpy          : 1.20.1\n",
      "seaborn        : 0.11.1\n",
      "pandas         : 1.2.4\n",
      "ipywidgets     : 7.6.3\n",
      "\n"
     ]
    }
   ],
   "source": [
    "%load_ext watermark\n",
    "%watermark\n",
    "%watermark --iversions"
   ]
  },
  {
   "cell_type": "code",
   "execution_count": null,
   "id": "690db4bf-15e2-4f41-94f3-5d73b52b76a6",
   "metadata": {},
   "outputs": [],
   "source": []
  }
 ],
 "metadata": {
  "kernelspec": {
   "display_name": "Python 3",
   "language": "python",
   "name": "python3"
  },
  "language_info": {
   "codemirror_mode": {
    "name": "ipython",
    "version": 3
   },
   "file_extension": ".py",
   "mimetype": "text/x-python",
   "name": "python",
   "nbconvert_exporter": "python",
   "pygments_lexer": "ipython3",
   "version": "3.8.8"
  }
 },
 "nbformat": 4,
 "nbformat_minor": 5
}
