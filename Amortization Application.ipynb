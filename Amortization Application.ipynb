{
 "cells": [
  {
   "cell_type": "markdown",
   "id": "94f58034-ec9c-414f-adb3-17a4c93b4432",
   "metadata": {},
   "source": [
    "* clean up - watch the videos on how to make good jupyter notebooks\n",
    "* upload to github and figure out how to use jupyter binders"
   ]
  },
  {
   "cell_type": "markdown",
   "id": "b22f154c-6a6a-46e0-b6ad-1af384fef9bf",
   "metadata": {},
   "source": [
    "# Amortization Calculator Application"
   ]
  },
  {
   "cell_type": "markdown",
   "id": "b80eb8c3-dfff-4cbe-bde2-b00fc1f789e6",
   "metadata": {},
   "source": [
    "## Imports"
   ]
  },
  {
   "cell_type": "code",
   "execution_count": 6,
   "id": "68258498-8206-485e-b5aa-388f50f3c133",
   "metadata": {},
   "outputs": [],
   "source": [
    "# Imports\n",
    "import ipywidgets as widgets\n",
    "import numpy as np\n",
    "import pandas as pd\n",
    "import matplotlib.pyplot as plt\n",
    "import numpy_financial as npf\n",
    "from datetime import datetime\n",
    "import ipysheet\n",
    "import seaborn as sns\n",
    "\n",
    "# Imports for helper functions\n",
    "from AmortCalc.Application import *"
   ]
  },
  {
   "cell_type": "markdown",
   "id": "5fef53e0-295e-4002-9c46-ccd650b3c59c",
   "metadata": {},
   "source": [
    "## Setup"
   ]
  },
  {
   "cell_type": "code",
   "execution_count": 2,
   "id": "e3a151d8-e2c9-4c0d-9697-c36a1886052a",
   "metadata": {},
   "outputs": [],
   "source": [
    "# Creating the main inputs for the application \n",
    "principal = widgets.IntText(description = \"Principal\", value = 100000)\n",
    "period_in_years = widgets.IntSlider(min = 1, max = 60, description = \"Years\")\n",
    "period_in_months = widgets.IntSlider(min = 1, description = \"Period\")\n",
    "rate = widgets.FloatText(description = \"Interest Rate (in percentage)\", value = 5)\n",
    "start_date = widgets.DatePicker(value = datetime.today())\n",
    "additional_payment = widgets.IntText(description = \"Additional Principal payment\", value = 50, min = 0)\n",
    "\n",
    "\n",
    "# This function changes the max value of the period based on the amount of years inputted\n",
    "def update_x_range(*args):\n",
    "    period_in_months.max = 12.0 * period_in_years.value\n",
    "\n",
    "period_in_months.observe(update_x_range, 'value')\n",
    "    "
   ]
  },
  {
   "cell_type": "markdown",
   "id": "f908dc01-f9e1-477e-9577-9ea751bd7141",
   "metadata": {},
   "source": [
    "## Inputs"
   ]
  },
  {
   "cell_type": "code",
   "execution_count": 3,
   "id": "b382add2-1e0e-47a0-8fda-704f2d3fe97b",
   "metadata": {
    "tags": []
   },
   "outputs": [
    {
     "data": {
      "application/vnd.jupyter.widget-view+json": {
       "model_id": "5c2af9dc42b44db9bfaafbe99ebeaa30",
       "version_major": 2,
       "version_minor": 0
      },
      "text/plain": [
       "HBox(children=(VBox(children=(IntText(value=100000, description='Principal'), FloatText(value=5.0, description…"
      ]
     },
     "metadata": {},
     "output_type": "display_data"
    }
   ],
   "source": [
    "ui = widgets.VBox([principal, rate, start_date, period_in_years,period_in_months,additional_payment])\n",
    "value_output = widgets.interactive_output(payments_per_period,\n",
    "                                          {'rate_in_months': rate,\n",
    "                                           'per': period_in_months,\n",
    "                                           'period_in_months':period_in_years,\n",
    "                                           'principal':principal })\n",
    "display(widgets.HBox([ui,value_output]));\n",
    "\n"
   ]
  },
  {
   "cell_type": "markdown",
   "id": "6c60a7aa-b8e8-484b-b3f9-a42657d11730",
   "metadata": {},
   "source": [
    "## Outputs"
   ]
  },
  {
   "cell_type": "code",
   "execution_count": 7,
   "id": "07e4aad6-08fd-42b0-8b95-1e093442e465",
   "metadata": {
    "tags": []
   },
   "outputs": [
    {
     "data": {
      "application/vnd.jupyter.widget-view+json": {
       "model_id": "a91244db282741058a0a8f84590a5311",
       "version_major": 2,
       "version_minor": 0
      },
      "text/plain": [
       "Output(layout=Layout(border='1px solid black'))"
      ]
     },
     "metadata": {},
     "output_type": "display_data"
    }
   ],
   "source": [
    "out = widgets.Output(layout={'border': '1px solid black'})\n",
    "\n",
    "view_toggle = widgets.Dropdown(\n",
    "    options=['Table', 'Graph'],\n",
    "    value='Table',\n",
    "    description='View:',\n",
    "    disabled=False,\n",
    ")\n",
    "\n",
    "def toggle(x):\n",
    "    if x == 'Table':\n",
    "        display(table_output)\n",
    "    elif x == 'Graph':\n",
    "        display(graph_output)\n",
    "with out: \n",
    "\n",
    "    table_output = widgets.interactive_output(create_table,\n",
    "                                              {'start_date': start_date,\n",
    "                                               'rate_in_months': rate,\n",
    "                                               'period_in_years': period_in_years,\n",
    "                                               'principal': principal,\n",
    "                                              'additional_pmt':additional_payment})\n",
    "    graph_output = widgets.interactive_output(create_graph,\n",
    "                                              {'start_date': start_date,\n",
    "                                               'rate_in_months': rate,\n",
    "                                               'period_in_years': period_in_years,\n",
    "                                               'principal': principal,\n",
    "                                              'additional_pmt':additional_payment})\n",
    "    widgets.interact(toggle, x = view_toggle)\n",
    "    \n",
    "out"
   ]
  },
  {
   "cell_type": "code",
   "execution_count": null,
   "id": "93d7f6f9-a504-4549-99d3-dd15168a5859",
   "metadata": {},
   "outputs": [],
   "source": []
  },
  {
   "cell_type": "code",
   "execution_count": null,
   "id": "690db4bf-15e2-4f41-94f3-5d73b52b76a6",
   "metadata": {},
   "outputs": [],
   "source": []
  }
 ],
 "metadata": {
  "kernelspec": {
   "display_name": "Python 3",
   "language": "python",
   "name": "python3"
  },
  "language_info": {
   "codemirror_mode": {
    "name": "ipython",
    "version": 3
   },
   "file_extension": ".py",
   "mimetype": "text/x-python",
   "name": "python",
   "nbconvert_exporter": "python",
   "pygments_lexer": "ipython3",
   "version": "3.8.8"
  }
 },
 "nbformat": 4,
 "nbformat_minor": 5
}
